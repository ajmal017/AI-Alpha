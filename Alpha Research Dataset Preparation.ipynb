{
 "cells": [
  {
   "cell_type": "code",
   "execution_count": 1,
   "metadata": {},
   "outputs": [],
   "source": [
    "import pandas as pd\n",
    "import yfinance as yf\n",
    "import numpy as np"
   ]
  },
  {
   "cell_type": "code",
   "execution_count": 2,
   "metadata": {},
   "outputs": [],
   "source": [
    "nifty_500 = pd.read_csv('ind_nifty500list.csv')"
   ]
  },
  {
   "cell_type": "code",
   "execution_count": 3,
   "metadata": {},
   "outputs": [],
   "source": [
    "nifty_500['Symbol_Yahoo'] = nifty_500['Symbol'].apply(lambda x : '{}.{}'.format(x,'NS')) "
   ]
  },
  {
   "cell_type": "code",
   "execution_count": 4,
   "metadata": {},
   "outputs": [
    {
     "data": {
      "text/html": [
       "<div>\n",
       "<style scoped>\n",
       "    .dataframe tbody tr th:only-of-type {\n",
       "        vertical-align: middle;\n",
       "    }\n",
       "\n",
       "    .dataframe tbody tr th {\n",
       "        vertical-align: top;\n",
       "    }\n",
       "\n",
       "    .dataframe thead th {\n",
       "        text-align: right;\n",
       "    }\n",
       "</style>\n",
       "<table border=\"1\" class=\"dataframe\">\n",
       "  <thead>\n",
       "    <tr style=\"text-align: right;\">\n",
       "      <th></th>\n",
       "      <th>Company Name</th>\n",
       "      <th>Industry</th>\n",
       "      <th>Symbol</th>\n",
       "      <th>Series</th>\n",
       "      <th>ISIN Code</th>\n",
       "      <th>Symbol_Yahoo</th>\n",
       "    </tr>\n",
       "  </thead>\n",
       "  <tbody>\n",
       "    <tr>\n",
       "      <th>0</th>\n",
       "      <td>3M India Ltd.</td>\n",
       "      <td>SERVICES</td>\n",
       "      <td>3MINDIA</td>\n",
       "      <td>EQ</td>\n",
       "      <td>INE470A01017</td>\n",
       "      <td>3MINDIA.NS</td>\n",
       "    </tr>\n",
       "    <tr>\n",
       "      <th>1</th>\n",
       "      <td>ACC Ltd.</td>\n",
       "      <td>CEMENT &amp; CEMENT PRODUCTS</td>\n",
       "      <td>ACC</td>\n",
       "      <td>EQ</td>\n",
       "      <td>INE012A01025</td>\n",
       "      <td>ACC.NS</td>\n",
       "    </tr>\n",
       "    <tr>\n",
       "      <th>2</th>\n",
       "      <td>AIA Engineering Ltd.</td>\n",
       "      <td>INDUSTRIAL MANUFACTURING</td>\n",
       "      <td>AIAENG</td>\n",
       "      <td>EQ</td>\n",
       "      <td>INE212H01026</td>\n",
       "      <td>AIAENG.NS</td>\n",
       "    </tr>\n",
       "    <tr>\n",
       "      <th>3</th>\n",
       "      <td>APL Apollo Tubes Ltd.</td>\n",
       "      <td>METALS</td>\n",
       "      <td>APLAPOLLO</td>\n",
       "      <td>EQ</td>\n",
       "      <td>INE702C01019</td>\n",
       "      <td>APLAPOLLO.NS</td>\n",
       "    </tr>\n",
       "    <tr>\n",
       "      <th>4</th>\n",
       "      <td>AU Small Finance Bank Ltd.</td>\n",
       "      <td>FINANCIAL SERVICES</td>\n",
       "      <td>AUBANK</td>\n",
       "      <td>EQ</td>\n",
       "      <td>INE949L01017</td>\n",
       "      <td>AUBANK.NS</td>\n",
       "    </tr>\n",
       "  </tbody>\n",
       "</table>\n",
       "</div>"
      ],
      "text/plain": [
       "                 Company Name                  Industry     Symbol Series  \\\n",
       "0               3M India Ltd.                  SERVICES    3MINDIA     EQ   \n",
       "1                    ACC Ltd.  CEMENT & CEMENT PRODUCTS        ACC     EQ   \n",
       "2        AIA Engineering Ltd.  INDUSTRIAL MANUFACTURING     AIAENG     EQ   \n",
       "3       APL Apollo Tubes Ltd.                    METALS  APLAPOLLO     EQ   \n",
       "4  AU Small Finance Bank Ltd.        FINANCIAL SERVICES     AUBANK     EQ   \n",
       "\n",
       "      ISIN Code  Symbol_Yahoo  \n",
       "0  INE470A01017    3MINDIA.NS  \n",
       "1  INE012A01025        ACC.NS  \n",
       "2  INE212H01026     AIAENG.NS  \n",
       "3  INE702C01019  APLAPOLLO.NS  \n",
       "4  INE949L01017     AUBANK.NS  "
      ]
     },
     "execution_count": 4,
     "metadata": {},
     "output_type": "execute_result"
    }
   ],
   "source": [
    "nifty_500.head()"
   ]
  },
  {
   "cell_type": "code",
   "execution_count": 5,
   "metadata": {},
   "outputs": [],
   "source": [
    "Industries = list(nifty_500['Industry'].unique())\n",
    "Industry_code = [i for i in range(1,len(Industries) + 1)]\n",
    "Industry_dict = dict(zip(Industries,Industry_code))"
   ]
  },
  {
   "cell_type": "code",
   "execution_count": 6,
   "metadata": {},
   "outputs": [],
   "source": [
    "start = '2015-05-15'\n",
    "end = '2020-05-16'"
   ]
  },
  {
   "cell_type": "code",
   "execution_count": 82,
   "metadata": {},
   "outputs": [],
   "source": [
    "z = yf.Ticker(\"ITC.NS\")"
   ]
  },
  {
   "cell_type": "code",
   "execution_count": 84,
   "metadata": {},
   "outputs": [
    {
     "data": {
      "text/plain": [
       "{'zip': '700071',\n",
       " 'sector': 'Consumer Defensive',\n",
       " 'fullTimeEmployees': 33305,\n",
       " 'longBusinessSummary': 'ITC Limited engages in the fast moving consumer goods, hotels, paperboards, paper and packaging, agri, and information technology businesses worldwide. The company primarily offers cigarettes and cigars; staples, spices, biscuits, confectionery and gums, snacks, noodles and pasta, beverages, dairy, ready to eat meals, chocolate, coffee, and frozen foods; personal care products; education and stationery products; safety matches; and incense sticks under various brands. It also retails formals and casual wear products, and other lifestyle products through the Wills Lifestyle stores. In addition, the company offers paper boards and specialty paper products; and packaging products, such as carton board, flexible, and tobacco packaging products, as well as operates approximately 100 hotels under the ITC Hotel, WelcomHotel, Fortune, and WelcomHeritage brands. Further, it exports feed ingredients, food grains, marine products, processed fruits, coffee products, leaf tobacco products, and spices; and offers IT services and solutions. Additionally, the company offers technology services and solutions for the consumer packaged goods, retail, manufacturing, hi-tech, banking, financial services and insurance, healthcare, airline, and hospitality industries. The company also provides property infrastructure and real estate maintenance, business consulting, real estate development, and agro-forestry and other related services; manages and operates golf courses; fabricates and assembles machinery for tube filling, cartoning, wrapping, conveyor solutions, and engineering services; and produces and commercializes seed potato technology products. ITC Limited was incorporated in 1910 and is based in Kolkata, India.',\n",
       " 'city': 'Kolkata',\n",
       " 'phone': '91 33 2288 9371',\n",
       " 'country': 'India',\n",
       " 'companyOfficers': [],\n",
       " 'website': 'http://www.itcportal.com',\n",
       " 'maxAge': 1,\n",
       " 'address1': 'Virginia House',\n",
       " 'fax': '91 33 2288 2358',\n",
       " 'industry': 'Tobacco',\n",
       " 'address2': '37 Jawaharlal Nehru Road',\n",
       " 'previousClose': 163.8,\n",
       " 'regularMarketOpen': 162.2,\n",
       " 'twoHundredDayAverage': 212.06937,\n",
       " 'trailingAnnualDividendYield': 0.035103783,\n",
       " 'payoutRatio': 0.4721,\n",
       " 'volume24Hr': None,\n",
       " 'regularMarketDayHigh': 165.5,\n",
       " 'navPrice': None,\n",
       " 'averageDailyVolume10Day': 20667452,\n",
       " 'totalAssets': None,\n",
       " 'regularMarketPreviousClose': 163.8,\n",
       " 'fiftyDayAverage': 175.38333,\n",
       " 'trailingAnnualDividendRate': 5.75,\n",
       " 'open': 162.2,\n",
       " 'toCurrency': None,\n",
       " 'averageVolume10days': 20667452,\n",
       " 'expireDate': None,\n",
       " 'yield': None,\n",
       " 'algorithm': None,\n",
       " 'dividendRate': 5.75,\n",
       " 'exDividendDate': 1558483200,\n",
       " 'beta': 0.50078,\n",
       " 'circulatingSupply': None,\n",
       " 'startDate': None,\n",
       " 'regularMarketDayLow': 161.15,\n",
       " 'priceHint': 2,\n",
       " 'currency': 'INR',\n",
       " 'trailingPE': 13.5169525,\n",
       " 'regularMarketVolume': 14950688,\n",
       " 'lastMarket': None,\n",
       " 'maxSupply': None,\n",
       " 'openInterest': None,\n",
       " 'marketCap': 2023910670336,\n",
       " 'volumeAllCurrencies': None,\n",
       " 'strikePrice': None,\n",
       " 'averageVolume': 28882438,\n",
       " 'priceToSalesTrailing12Months': 4.0049214,\n",
       " 'dayLow': 161.15,\n",
       " 'ask': 164.65,\n",
       " 'ytdReturn': None,\n",
       " 'askSize': 0,\n",
       " 'volume': 14950688,\n",
       " 'fiftyTwoWeekHigh': 310,\n",
       " 'forwardPE': 14.545053,\n",
       " 'fromCurrency': None,\n",
       " 'fiveYearAvgDividendYield': 1.93,\n",
       " 'fiftyTwoWeekLow': 134.6,\n",
       " 'bid': 0,\n",
       " 'tradeable': False,\n",
       " 'dividendYield': 0.035099998,\n",
       " 'bidSize': 0,\n",
       " 'dayHigh': 165.5,\n",
       " 'exchange': 'NSI',\n",
       " 'shortName': 'ITC',\n",
       " 'longName': 'ITC Limited',\n",
       " 'exchangeTimezoneName': 'Asia/Kolkata',\n",
       " 'exchangeTimezoneShortName': 'IST',\n",
       " 'isEsgPopulated': False,\n",
       " 'gmtOffSetMilliseconds': '19800000',\n",
       " 'quoteType': 'EQUITY',\n",
       " 'symbol': 'ITC.NS',\n",
       " 'messageBoardId': 'finmb_878153',\n",
       " 'market': 'in_market',\n",
       " 'annualHoldingsTurnover': None,\n",
       " 'enterpriseToRevenue': 3.487,\n",
       " 'beta3Year': None,\n",
       " 'profitMargins': 0.29652,\n",
       " 'enterpriseToEbitda': 9.004,\n",
       " '52WeekChange': -0.4664495,\n",
       " 'morningStarRiskRating': None,\n",
       " 'forwardEps': 11.32,\n",
       " 'revenueQuarterlyGrowth': None,\n",
       " 'sharesOutstanding': 12292200448,\n",
       " 'fundInceptionDate': None,\n",
       " 'annualReportExpenseRatio': None,\n",
       " 'bookValue': 47.566,\n",
       " 'sharesShort': None,\n",
       " 'sharesPercentSharesOut': None,\n",
       " 'fundFamily': None,\n",
       " 'lastFiscalYearEnd': 1553990400,\n",
       " 'heldPercentInstitutions': None,\n",
       " 'netIncomeToCommon': 149848195072,\n",
       " 'trailingEps': 12.181,\n",
       " 'lastDividendValue': None,\n",
       " 'SandP52WeekChange': 0.0082633495,\n",
       " 'priceToBook': 3.461506,\n",
       " 'heldPercentInsiders': None,\n",
       " 'nextFiscalYearEnd': 1617148800,\n",
       " 'mostRecentQuarter': 1577750400,\n",
       " 'shortRatio': None,\n",
       " 'sharesShortPreviousMonthDate': None,\n",
       " 'floatShares': 8436611228,\n",
       " 'enterpriseValue': 1761952923648,\n",
       " 'threeYearAverageReturn': None,\n",
       " 'lastSplitDate': 1467331200,\n",
       " 'lastSplitFactor': '3:2',\n",
       " 'legalType': None,\n",
       " 'morningStarOverallRating': None,\n",
       " 'earningsQuarterlyGrowth': 0.291,\n",
       " 'dateShortInterest': None,\n",
       " 'pegRatio': None,\n",
       " 'lastCapGain': None,\n",
       " 'shortPercentOfFloat': None,\n",
       " 'sharesShortPriorMonth': None,\n",
       " 'category': None,\n",
       " 'fiveYearAverageReturn': None,\n",
       " 'regularMarketPrice': 162.2,\n",
       " 'logo_url': 'https://logo.clearbit.com/itcportal.com'}"
      ]
     },
     "execution_count": 84,
     "metadata": {},
     "output_type": "execute_result"
    }
   ],
   "source": [
    "z.info"
   ]
  },
  {
   "cell_type": "code",
   "execution_count": 8,
   "metadata": {},
   "outputs": [],
   "source": [
    "z = z.history(start = start,end = end)"
   ]
  },
  {
   "cell_type": "code",
   "execution_count": 18,
   "metadata": {},
   "outputs": [
    {
     "data": {
      "text/plain": [
       "[209.65, 212.26, 206.17, 207.16, 7228746.0, 0.0, 0.0]"
      ]
     },
     "execution_count": 18,
     "metadata": {},
     "output_type": "execute_result"
    }
   ],
   "source": [
    "list(z.loc['2015-11-10'].values)"
   ]
  },
  {
   "cell_type": "code",
   "execution_count": 19,
   "metadata": {},
   "outputs": [
    {
     "data": {
      "text/plain": [
       "[271.84, 275.23, 269.44, 270.13, 7341352.0, 0.0, 0.0]"
      ]
     },
     "execution_count": 19,
     "metadata": {},
     "output_type": "execute_result"
    }
   ],
   "source": [
    "list(z.loc['2019-02-12'].values)"
   ]
  },
  {
   "cell_type": "code",
   "execution_count": 20,
   "metadata": {},
   "outputs": [
    {
     "data": {
      "text/plain": [
       "[288.57, 296.32, 287.49, 294.36, 17752380.0, 0.0, 0.0]"
      ]
     },
     "execution_count": 20,
     "metadata": {},
     "output_type": "execute_result"
    }
   ],
   "source": [
    "list(z.loc['2019-03-28'].values)"
   ]
  },
  {
   "cell_type": "code",
   "execution_count": 25,
   "metadata": {},
   "outputs": [
    {
     "data": {
      "text/plain": [
       "(1230, 7)"
      ]
     },
     "execution_count": 25,
     "metadata": {},
     "output_type": "execute_result"
    }
   ],
   "source": [
    "z.shape"
   ]
  },
  {
   "cell_type": "code",
   "execution_count": 64,
   "metadata": {},
   "outputs": [],
   "source": [
    "index = [pd.Timestamp('2015-11-11'),pd.Timestamp('2019-02-13'),pd.Timestamp('2019-03-29')]"
   ]
  },
  {
   "cell_type": "code",
   "execution_count": 73,
   "metadata": {},
   "outputs": [],
   "source": [
    "sectors = []\n",
    "\n",
    "for symbol in nifty_500['Symbol_Yahoo'].values :\n",
    "    \n",
    "    ticker = yf.Ticker(symbol)\n",
    "    df = ticker.history(start = start,end = end,actions = False)\n",
    "    \n",
    "    df.columns = ['open','high','low','close','volume']\n",
    "    \n",
    "    if df.shape[0] == z.shape[0] :\n",
    "        \n",
    "        temp = []\n",
    "        \n",
    "        sector = nifty_500[nifty_500['Symbol_Yahoo'] == symbol]['Industry'].values[0]\n",
    "        sectors.append(Industry_dict[sector])\n",
    "        \n",
    "        temp.append(list(df.loc['2015-11-10'].values))\n",
    "        temp.append(list(df.loc['2019-02-12'].values))\n",
    "        temp.append(list(df.loc['2019-03-28'].values))\n",
    "        temp_df = pd.DataFrame(temp,index = index,columns = df.columns)\n",
    "        \n",
    "        df = pd.concat([df,temp_df])\n",
    "        \n",
    "        df = df.sort_index(axis = 0) \n",
    "        \n",
    "        df.to_csv('data/daily/{}.csv'.format(symbol))\n",
    "\n",
    "sectors = np.array(sectors)        \n",
    "np.save('data.npy',sectors)"
   ]
  },
  {
   "cell_type": "code",
   "execution_count": 67,
   "metadata": {},
   "outputs": [
    {
     "data": {
      "text/html": [
       "<div>\n",
       "<style scoped>\n",
       "    .dataframe tbody tr th:only-of-type {\n",
       "        vertical-align: middle;\n",
       "    }\n",
       "\n",
       "    .dataframe tbody tr th {\n",
       "        vertical-align: top;\n",
       "    }\n",
       "\n",
       "    .dataframe thead th {\n",
       "        text-align: right;\n",
       "    }\n",
       "</style>\n",
       "<table border=\"1\" class=\"dataframe\">\n",
       "  <thead>\n",
       "    <tr style=\"text-align: right;\">\n",
       "      <th></th>\n",
       "      <th>open</th>\n",
       "      <th>high</th>\n",
       "      <th>low</th>\n",
       "      <th>close</th>\n",
       "      <th>volume</th>\n",
       "      <th>dividend</th>\n",
       "      <th>split</th>\n",
       "    </tr>\n",
       "  </thead>\n",
       "  <tbody>\n",
       "    <tr>\n",
       "      <th>2020-05-14</th>\n",
       "      <td>438.60</td>\n",
       "      <td>441.00</td>\n",
       "      <td>430.15</td>\n",
       "      <td>432.35</td>\n",
       "      <td>10607.0</td>\n",
       "      <td>0.0</td>\n",
       "      <td>0.0</td>\n",
       "    </tr>\n",
       "    <tr>\n",
       "      <th>2020-05-15</th>\n",
       "      <td>434.00</td>\n",
       "      <td>440.55</td>\n",
       "      <td>420.00</td>\n",
       "      <td>426.35</td>\n",
       "      <td>43179.0</td>\n",
       "      <td>0.0</td>\n",
       "      <td>0.0</td>\n",
       "    </tr>\n",
       "    <tr>\n",
       "      <th>2015-11-11</th>\n",
       "      <td>1301.55</td>\n",
       "      <td>1316.43</td>\n",
       "      <td>1268.48</td>\n",
       "      <td>1278.23</td>\n",
       "      <td>18739.0</td>\n",
       "      <td>0.0</td>\n",
       "      <td>0.0</td>\n",
       "    </tr>\n",
       "    <tr>\n",
       "      <th>2019-02-13</th>\n",
       "      <td>1021.44</td>\n",
       "      <td>1021.44</td>\n",
       "      <td>976.02</td>\n",
       "      <td>980.95</td>\n",
       "      <td>9443.0</td>\n",
       "      <td>0.0</td>\n",
       "      <td>0.0</td>\n",
       "    </tr>\n",
       "    <tr>\n",
       "      <th>2019-03-29</th>\n",
       "      <td>1133.38</td>\n",
       "      <td>1148.97</td>\n",
       "      <td>1130.50</td>\n",
       "      <td>1144.29</td>\n",
       "      <td>30525.0</td>\n",
       "      <td>0.0</td>\n",
       "      <td>0.0</td>\n",
       "    </tr>\n",
       "  </tbody>\n",
       "</table>\n",
       "</div>"
      ],
      "text/plain": [
       "               open     high      low    close   volume  dividend  split\n",
       "2020-05-14   438.60   441.00   430.15   432.35  10607.0       0.0    0.0\n",
       "2020-05-15   434.00   440.55   420.00   426.35  43179.0       0.0    0.0\n",
       "2015-11-11  1301.55  1316.43  1268.48  1278.23  18739.0       0.0    0.0\n",
       "2019-02-13  1021.44  1021.44   976.02   980.95   9443.0       0.0    0.0\n",
       "2019-03-29  1133.38  1148.97  1130.50  1144.29  30525.0       0.0    0.0"
      ]
     },
     "execution_count": 67,
     "metadata": {},
     "output_type": "execute_result"
    }
   ],
   "source": [
    "df.tail()"
   ]
  },
  {
   "cell_type": "code",
   "execution_count": null,
   "metadata": {},
   "outputs": [],
   "source": []
  }
 ],
 "metadata": {
  "kernelspec": {
   "display_name": "Python 3",
   "language": "python",
   "name": "python3"
  },
  "language_info": {
   "codemirror_mode": {
    "name": "ipython",
    "version": 3
   },
   "file_extension": ".py",
   "mimetype": "text/x-python",
   "name": "python",
   "nbconvert_exporter": "python",
   "pygments_lexer": "ipython3",
   "version": "3.6.9"
  }
 },
 "nbformat": 4,
 "nbformat_minor": 2
}
